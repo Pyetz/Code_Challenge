{
 "cells": [
  {
   "cell_type": "markdown",
   "metadata": {},
   "source": [
    "# Bài 1"
   ]
  },
  {
   "cell_type": "code",
   "execution_count": 3,
   "metadata": {},
   "outputs": [
    {
     "name": "stdout",
     "output_type": "stream",
     "text": [
      "[0 1 2 3 4 5 6 7 8 9]\n",
      "tensor([0, 1, 2, 3, 4, 5, 6, 7, 8, 9])\n",
      "tf.Tensor([0 1 2 3 4 5 6 7 8 9], shape=(10,), dtype=int32)\n"
     ]
    }
   ],
   "source": [
    "import numpy as np\n",
    "import torch as t\n",
    "import tensorflow as tf\n",
    "\n",
    "nparange = np.arange(10)\n",
    "print(nparange)\n",
    "torchrange = t.arange(10)\n",
    "print(torchrange)\n",
    "tfrange = tf.range(10)\n",
    "print(tfrange)"
   ]
  },
  {
   "cell_type": "markdown",
   "metadata": {},
   "source": [
    "# Bài 2"
   ]
  },
  {
   "cell_type": "code",
   "execution_count": 4,
   "metadata": {},
   "outputs": [
    {
     "name": "stdout",
     "output_type": "stream",
     "text": [
      "[[1 0 0]\n",
      " [0 1 0]\n",
      " [0 0 1]]\n",
      "tensor([[1, 0, 0],\n",
      "        [0, 1, 0],\n",
      "        [0, 0, 1]])\n",
      "tf.Tensor(\n",
      "[[1 0 0]\n",
      " [0 1 0]\n",
      " [0 0 1]], shape=(3, 3), dtype=int32)\n"
     ]
    }
   ],
   "source": [
    "npeye = np.eye(3,dtype = int)\n",
    "print(npeye)\n",
    "torcheye = t.eye(3, dtype = int)\n",
    "print(torcheye)\n",
    "tfeye = tf.eye(3, dtype = tf.int32)\n",
    "print(tfeye)"
   ]
  },
  {
   "cell_type": "markdown",
   "metadata": {},
   "source": [
    "# Bài 3"
   ]
  },
  {
   "cell_type": "code",
   "execution_count": 5,
   "metadata": {},
   "outputs": [
    {
     "name": "stdout",
     "output_type": "stream",
     "text": [
      "[[0.58801452 0.69910875 0.18815196 0.04380856]\n",
      " [0.20501895 0.10606287 0.72724014 0.67940052]\n",
      " [0.4738457  0.44829582 0.01910695 0.75259834]]\n",
      "[[ 5  1 -3  8]\n",
      " [-1 -4 10  0]\n",
      " [-9 -5  9 -6]]\n",
      "tensor([[0.5317, 0.8313, 0.9718, 0.1193],\n",
      "        [0.1669, 0.3495, 0.2150, 0.6201],\n",
      "        [0.4849, 0.7492, 0.1521, 0.5625]])\n",
      "tensor([[-10,   3,  -4,  10],\n",
      "        [  2,   7,  -1,   9],\n",
      "        [  1,   3, -10,   3]])\n",
      "tf.Tensor(\n",
      "[[0.90034294 0.19453335 0.36069036 0.66361904]\n",
      " [0.76605344 0.2159369  0.6261736  0.07380784]\n",
      " [0.22062695 0.934368   0.93327904 0.69267046]], shape=(3, 4), dtype=float32)\n",
      "tf.Tensor(\n",
      "[[ 7  6  2  8]\n",
      " [ 0 -1 -4  6]\n",
      " [-2  5 10 -3]], shape=(3, 4), dtype=int32)\n"
     ]
    }
   ],
   "source": [
    "np.random.seed(2024)\n",
    "np_randmat = np.random.rand(3,4)\n",
    "np_randmat2 = np.random.randint(-10, 11, (3,4))\n",
    "print(np_randmat)\n",
    "print(np_randmat2)\n",
    "\n",
    "t.manual_seed(2024)\n",
    "t_randmat = t.rand(3,4)\n",
    "t_randmat2 = t.randint(-10, 11, (3,4))\n",
    "print(t_randmat)\n",
    "print(t_randmat2)\n",
    "\n",
    "tf.random.set_seed(2024)\n",
    "tf_randmat = tf.random.uniform([3,4])\n",
    "tf_randmat2 = tf.random.uniform([3,4], -10, 11, dtype = tf.int32)\n",
    "print(tf_randmat)\n",
    "print(tf_randmat2)"
   ]
  }
 ],
 "metadata": {
  "kernelspec": {
   "display_name": "aMs_3.11",
   "language": "python",
   "name": "python3"
  },
  "language_info": {
   "codemirror_mode": {
    "name": "ipython",
    "version": 3
   },
   "file_extension": ".py",
   "mimetype": "text/x-python",
   "name": "python",
   "nbconvert_exporter": "python",
   "pygments_lexer": "ipython3",
   "version": "3.11.8"
  }
 },
 "nbformat": 4,
 "nbformat_minor": 2
}
