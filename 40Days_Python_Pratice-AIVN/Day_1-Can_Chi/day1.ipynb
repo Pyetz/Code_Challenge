{
 "cells": [
  {
   "cell_type": "code",
   "execution_count": 1,
   "metadata": {},
   "outputs": [],
   "source": [
    "can = ('Canh', 'Tân', 'Nhâm', 'Quý', 'Giáp', 'Ất', 'Bính', 'Đinh', 'Mậu', 'Kỷ')\n",
    "chi = ('Thân', 'Dậu', 'Tuất', 'Hợi', 'Tý', 'Sửu', 'Dần', 'Mão', 'Thìn', 'Tỵ', 'Ngọ', 'Mùi')\n",
    "\n",
    "def can_chi(year):\n",
    "    return can[year%10] + ' ' + chi[year%12]"
   ]
  },
  {
   "cell_type": "code",
   "execution_count": 2,
   "metadata": {},
   "outputs": [
    {
     "name": "stdout",
     "output_type": "stream",
     "text": [
      "2018 Mậu Tuất\n",
      "2019 Kỷ Hợi\n",
      "2020 Canh Tý\n",
      "2021 Tân Sửu\n",
      "2022 Nhâm Dần\n",
      "2023 Quý Mão\n",
      "2024 Giáp Thìn\n"
     ]
    }
   ],
   "source": [
    "for i in range (2018, 2025):\n",
    "    print(i, can_chi(i))"
   ]
  }
 ],
 "metadata": {
  "kernelspec": {
   "display_name": "Nam",
   "language": "python",
   "name": "python3"
  },
  "language_info": {
   "codemirror_mode": {
    "name": "ipython",
    "version": 3
   },
   "file_extension": ".py",
   "mimetype": "text/x-python",
   "name": "python",
   "nbconvert_exporter": "python",
   "pygments_lexer": "ipython3",
   "version": "3.11.8"
  }
 },
 "nbformat": 4,
 "nbformat_minor": 2
}
