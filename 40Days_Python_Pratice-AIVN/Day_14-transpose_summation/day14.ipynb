{
  "cells": [
    {
      "cell_type": "markdown",
      "metadata": {
        "id": "XoDS6Cb_DzTR"
      },
      "source": [
        "## Câu 1"
      ]
    },
    {
      "cell_type": "code",
      "execution_count": null,
      "metadata": {
        "id": "nQ-MPbY6DzTS",
        "outputId": "d3ac4ec6-6ac4-44dc-b0f8-4ea612cecac9"
      },
      "outputs": [
        {
          "name": "stdout",
          "output_type": "stream",
          "text": [
            "array 1:\n",
            " [[ -2 -10 -10  -6]\n",
            " [ -1  -9  -7   0]\n",
            " [ -8 -10  -5   7]]\n",
            "array 2:\n",
            " [[ 5  0  4  5]\n",
            " [ 1 -3  8 -1]\n",
            " [-4  0 -9 -5]]\n",
            "array 2 sau khi chuyển vị:\n",
            " [[ 5  1 -4]\n",
            " [ 0 -3  0]\n",
            " [ 4  8 -9]\n",
            " [ 5 -1 -5]]\n",
            "Kết quả phép nhân arr_1 với  arr_2:\n",
            " [[-80 -46 128]\n",
            " [-33 -30  67]\n",
            " [-25 -25  42]]\n"
          ]
        }
      ],
      "source": [
        "# Numpy code\n",
        "import numpy as np\n",
        "\n",
        "# Đặt seed để đảm bảo kết quả ngẫu nhiên có thể tái tạo được\n",
        "np.random.seed(2024)\n",
        "\n",
        "# Tạo 2 mảng với các giá trị số nguyên ngẫu nhiên trong\n",
        "# khoảng [-10, 10) với kích thước (3, 4)\n",
        "arr_1 = np.random.randint(-10, 10, (3, 4))\n",
        "arr_2 = np.random.randint(-10, 10, (3, 4))\n",
        "\n",
        "# Chuyển vị array\n",
        "# Cách 1: Sử dụng hàm np.transpose()\n",
        "arr2_transposed = np.transpose(arr_2)\n",
        "# # Cách 2: Sử dụng toán tử T\n",
        "# arr2_transposed = arr_2.T\n",
        "\n",
        "# Nhân ma trận\n",
        "result_matmul = np.matmul(arr_1, arr2_transposed)\n",
        "# In ra màn hình\n",
        "print(\"array 1:\\n\", arr_1)\n",
        "print(\"array 2:\\n\", arr_2)\n",
        "print(\"array 2 sau khi chuyển vị:\\n\", arr2_transposed)\n",
        "print(\"Kết quả phép nhân arr_1 với  arr_2:\\n\", result_matmul )\n"
      ]
    },
    {
      "cell_type": "code",
      "execution_count": null,
      "metadata": {
        "id": "R0Y0NGgTDzTT",
        "outputId": "b7ec22c4-6998-4bf7-f114-f80118279ca1"
      },
      "outputs": [
        {
          "name": "stdout",
          "output_type": "stream",
          "text": [
            "tensor 2:\n",
            " tensor([[  2,   0,  -6, -10],\n",
            "        [ -7, -10,   0,   1],\n",
            "        [  3,   9,   7,  -6]])\n",
            "tensor 2:\n",
            " tensor([[  1,   8,   0,  -2],\n",
            "        [ -9, -10,  -9,   0],\n",
            "        [ -3,  -7,  -4,   8]])\n",
            "tensor 2 sau khi chuyển vị:\n",
            " tensor([[  1,  -9,  -3],\n",
            "        [  8, -10,  -7],\n",
            "        [  0,  -9,  -4],\n",
            "        [ -2,   0,   8]])\n",
            "Kết quả phép nhân tensor_1 với  tensor_2:\n",
            " tensor([[  22,   36,  -62],\n",
            "        [ -89,  163,   99],\n",
            "        [  87, -180, -148]])\n"
          ]
        }
      ],
      "source": [
        "# Pytorch code\n",
        "import torch\n",
        "# Thiết lập seed để đảm bảo kết quả ngẫu nhiên có thể tái tạo được\n",
        "torch.manual_seed(2024)\n",
        "\n",
        "# Tạo 2 tensor với các giá trị ngẫu nhiên trong khoảng [-10, 10)\n",
        "tensor_1 = torch.randint(-10, 10, size=(3, 4))\n",
        "tensor_2 = torch.randint(-10, 10, size=(3, 4))\n",
        "\n",
        "# Chuyển vị tensor\n",
        "# Cách 1: Sử dụng phương thức torch.t()\n",
        "#tensor2_transposed = torch.t(tensor_2)\n",
        "# Cách 2: Sử dụng phương thức torch.transpose()\n",
        "# Cách 3: sử dụng toán tử chuyển vị T\n",
        "tensor2_transposed = tensor_2.T\n",
        "\n",
        "# Nhân ma trận\n",
        "result_matmul = torch.matmul(tensor_1, tensor2_transposed)\n",
        "\n",
        "# In ra màn hình\n",
        "print(\"tensor 2:\\n\", tensor_1)\n",
        "print(\"tensor 2:\\n\", tensor_2)\n",
        "print(\"tensor 2 sau khi chuyển vị:\\n\", tensor2_transposed)\n",
        "print(\"Kết quả phép nhân tensor_1 với  tensor_2:\\n\", result_matmul )\n"
      ]
    },
    {
      "cell_type": "code",
      "execution_count": null,
      "metadata": {
        "id": "Z-ZEeEz_DzTT",
        "outputId": "8df059c2-ed13-420d-e332-a7933cfbe0cf"
      },
      "outputs": [
        {
          "name": "stdout",
          "output_type": "stream",
          "text": [
            "tensor 1:\n",
            " tf.Tensor(\n",
            "[[-6 -2  0 -2]\n",
            " [ 4  4 -9  3]\n",
            " [ 7  1  2 -5]], shape=(3, 4), dtype=int32)\n",
            "tensor 2:\n",
            " tf.Tensor(\n",
            "[[-3 -7  9  3]\n",
            " [ 2 -5 -3 -5]\n",
            " [ 4 -3 -3  5]], shape=(3, 4), dtype=int32)\n",
            "tensor 2 sau khi chuyển vị:\n",
            " tf.Tensor(\n",
            "[[-6  4  7]\n",
            " [-2  4  1]\n",
            " [ 0 -9  2]\n",
            " [-2  3 -5]], shape=(4, 3), dtype=int32)\n",
            "Kết quả phép nhân tensor_1 với  tensor_2: tf.Tensor(\n",
            "[[ 44 -38 -34]\n",
            " [-38 122  -1]\n",
            " [-34  -1  79]], shape=(3, 3), dtype=int32)\n"
          ]
        }
      ],
      "source": [
        "# TensorFlow code\n",
        "import tensorflow as tf\n",
        "# Thiết lập seed để đảm bảo kết quả ngẫu nhiên có thể tái tạo được\n",
        "tf.random.set_seed(2024)\n",
        "\n",
        "# Tạo 2 tensor với các giá trị ngẫu nhiên trong khoảng [-10, 10)\n",
        "tensor_1 = tf.random.uniform((3, 4), minval=-10, maxval=10, dtype=tf.dtypes.int32)\n",
        "tensor_2 = tf.random.uniform((3, 4), minval=-10, maxval=10, dtype=tf.dtypes.int32)\n",
        "# Chuyển vị tensor\n",
        "tensor2_transposed = tf.transpose(tensor_1)\n",
        "\n",
        "# Nhân ma trận\n",
        "result_matmul = tf.matmul(tensor_1, tensor2_transposed)\n",
        "\n",
        "# In ra màn hình\n",
        "print(\"tensor 1:\\n\", tensor_1)\n",
        "print(\"tensor 2:\\n\", tensor_2)\n",
        "print(\"tensor 2 sau khi chuyển vị:\\n\", tensor2_transposed)\n",
        "print(\"Kết quả phép nhân tensor_1 với  tensor_2:\", result_matmul)"
      ]
    },
    {
      "cell_type": "markdown",
      "metadata": {
        "id": "UFC2PM5EDzTT"
      },
      "source": [
        "## Câu 2"
      ]
    },
    {
      "cell_type": "code",
      "execution_count": null,
      "metadata": {
        "id": "VumBV6_5DzTT",
        "outputId": "3dd7df1e-7286-4e4b-be94-29ba45672083"
      },
      "outputs": [
        {
          "name": "stdout",
          "output_type": "stream",
          "text": [
            "Mảng:\n",
            " [[ -2 -10 -10]\n",
            " [ -6  -1  -9]\n",
            " [ -7   0  -8]]\n",
            "Tổng của tất cả các phần tử trong mảng:\n",
            " -53\n",
            "Tổng theo cột:\n",
            " [-15 -11 -27]\n",
            "Tổng theo hàng:\n",
            " [-22 -16 -15]\n"
          ]
        }
      ],
      "source": [
        "# Đặt seed để đảm bảo kết quả ngẫu nhiên có thể tái tạo được\n",
        "np.random.seed(2024)\n",
        "\n",
        "# Tạo mảng với các giá trị số nguyên ngẫu nhiên trong\n",
        "# khoảng [-10, 10) với kích thước (3, 3)\n",
        "arr = np.random.randint(-10, 10, (3, 3))\n",
        "\n",
        "# Tính tổng của tất cả các phần tử trong mảng\n",
        "total_sum = np.sum(arr)\n",
        "\n",
        "# Tính tổng theo cột (theo chiều dọc)\n",
        "column_sum = np.sum(arr, axis=0)\n",
        "\n",
        "# Tính tổng theo hàng (theo chiều ngang)\n",
        "row_sum = np.sum(arr, axis=1)\n",
        "\n",
        "# In ra màn hình\n",
        "print(\"Mảng:\\n\", arr)\n",
        "print(\"Tổng của tất cả các phần tử trong mảng:\\n\", total_sum)\n",
        "print(\"Tổng theo cột:\\n\", column_sum)\n",
        "print(\"Tổng theo hàng:\\n\", row_sum)\n"
      ]
    },
    {
      "cell_type": "code",
      "execution_count": null,
      "metadata": {
        "id": "_JVes8k4DzTU",
        "outputId": "31b33d60-7fc1-45f9-e8e8-578f5ef0dbc6"
      },
      "outputs": [
        {
          "name": "stdout",
          "output_type": "stream",
          "text": [
            "tensor:\n",
            " tensor([[  2,   0,  -6],\n",
            "        [-10,  -7, -10],\n",
            "        [  0,   1,   3]])\n",
            "Tổng các phần tử trong tensor:\n",
            " tensor(-27)\n",
            "Tổng theo cột:\n",
            " tensor([ -8,  -6, -13])\n",
            "Tổng theo hàng:\n",
            " tensor([ -4, -27,   4])\n"
          ]
        }
      ],
      "source": [
        "# Pytorch code\n",
        "import torch\n",
        "# Thiết lập seed để đảm bảo kết quả ngẫu nhiên có thể tái tạo được\n",
        "torch.manual_seed(2024)\n",
        "\n",
        "# Tạo tensor với các giá trị ngẫu nhiên trong khoảng [-10, 10)\n",
        "tensor_1 = torch.randint(-10, 10, size=(3, 3))\n",
        "# Tính tổng tensor\n",
        "tensor_sum = torch.sum(tensor_1)\n",
        "# Tính tổng tensor theo cột axis = 0\n",
        "tensor_sum_axis_0 = torch.sum(tensor_1, axis=0)\n",
        "# Tính tổng tensor theo hàng axis = 1\n",
        "tensor_sum_axis_1 = torch.sum(tensor_1, axis=1)\n",
        "\n",
        "# In ra màn hình\n",
        "print(\"tensor:\\n\", tensor_1)\n",
        "print(\"Tổng các phần tử trong tensor:\\n\", tensor_sum)\n",
        "print(\"Tổng theo cột:\\n\", tensor_sum_axis_0)\n",
        "print(\"Tổng theo hàng:\\n\", tensor_sum_axis_1)"
      ]
    },
    {
      "cell_type": "code",
      "execution_count": null,
      "metadata": {
        "id": "Xb8NuY-KDzTU",
        "outputId": "847d0715-733c-41fc-a429-20ef1961c5d0"
      },
      "outputs": [
        {
          "name": "stdout",
          "output_type": "stream",
          "text": [
            "tensor:\n",
            " tf.Tensor(\n",
            "[[-6 -2  0]\n",
            " [-2  4  4]\n",
            " [-9  3  7]], shape=(3, 3), dtype=int32)\n",
            "Tổng các phần tử trong tensor:\n",
            " tf.Tensor(-1, shape=(), dtype=int32)\n",
            "Tổng theo cột:\n",
            " tf.Tensor([-17   5  11], shape=(3,), dtype=int32)\n",
            "Tổng theo hàng:\n",
            " tf.Tensor([-8  6  1], shape=(3,), dtype=int32)\n"
          ]
        }
      ],
      "source": [
        "# TensorFlow code\n",
        "import tensorflow as tf\n",
        "# Thiết lập seed để đảm bảo kết quả ngẫu nhiên có thể tái tạo được\n",
        "tf.random.set_seed(2024)\n",
        "\n",
        "# Tạo tensor với các giá trị ngẫu nhiên trong khoảng [-10, 10)\n",
        "tensor_1 = tf.random.uniform((3, 3), minval=-10, maxval=10, dtype=tf.dtypes.int32)\n",
        "# Tính tổng tensor\n",
        "tensor_sum = tf.reduce_sum(tensor_1)\n",
        "# Tính tổng tensor theo cột axis = 0\n",
        "tensor_sum_axis_0 = tf.reduce_sum(tensor_1, axis=0)\n",
        "# Tính tổng tensor theo hàng axis = 1\n",
        "tensor_sum_axis_1 = tf.reduce_sum(tensor_1, axis=1)\n",
        "\n",
        "# In ra màn hình\n",
        "print(\"tensor:\\n\", tensor_1)\n",
        "print(\"Tổng các phần tử trong tensor:\\n\", tensor_sum)\n",
        "print(\"Tổng theo cột:\\n\", tensor_sum_axis_0)\n",
        "print(\"Tổng theo hàng:\\n\", tensor_sum_axis_1)"
      ]
    }
  ],
  "metadata": {
    "colab": {
      "provenance": []
    },
    "kernelspec": {
      "display_name": "npt_env",
      "language": "python",
      "name": "python3"
    },
    "language_info": {
      "codemirror_mode": {
        "name": "ipython",
        "version": 3
      },
      "file_extension": ".py",
      "mimetype": "text/x-python",
      "name": "python",
      "nbconvert_exporter": "python",
      "pygments_lexer": "ipython3",
      "version": "3.8.18"
    }
  },
  "nbformat": 4,
  "nbformat_minor": 0
}
