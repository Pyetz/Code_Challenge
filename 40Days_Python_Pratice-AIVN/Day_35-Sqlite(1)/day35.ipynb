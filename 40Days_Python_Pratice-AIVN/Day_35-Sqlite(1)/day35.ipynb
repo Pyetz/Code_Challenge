{
 "cells": [
  {
   "cell_type": "code",
   "execution_count": 6,
   "metadata": {},
   "outputs": [],
   "source": [
    "import sqlite3\n",
    "import pandas as pd\n",
    "connection = sqlite3.connect('data.db')\n",
    "cursor = connection.cursor()"
   ]
  },
  {
   "cell_type": "code",
   "execution_count": 7,
   "metadata": {},
   "outputs": [
    {
     "data": {
      "text/plain": [
       "<sqlite3.Cursor at 0x11f5d40c0>"
      ]
     },
     "execution_count": 7,
     "metadata": {},
     "output_type": "execute_result"
    }
   ],
   "source": [
    "cursor.execute(\"\"\"\n",
    "CREATE TABLE PRODUCT (\n",
    "    ID INTEGER PRIMARY KEY,\n",
    "    NAME TEXT NOT NULL,\n",
    "    PRICE INTEGER NOT NULL\n",
    ");\n",
    "\"\"\")"
   ]
  },
  {
   "cell_type": "code",
   "execution_count": 8,
   "metadata": {},
   "outputs": [
    {
     "name": "stdout",
     "output_type": "stream",
     "text": [
      "   ID             NAME     PRICE\n",
      "0   1        iPhone 15  18000000\n",
      "1   2  Galaxy Z-Fold 5  30000000\n"
     ]
    }
   ],
   "source": [
    "cursor.execute(\"\"\"\n",
    "INSERT INTO PRODUCT (ID, NAME, PRICE)\n",
    "VALUES\n",
    "    (1, 'iPhone 15', 18000000),\n",
    "    (2, 'Galaxy Z-Fold 5', 30000000);\n",
    "\"\"\")\n",
    "data = pd.read_sql_query(\"SELECT * FROM PRODUCT\", connection)\n",
    "print(data)"
   ]
  },
  {
   "cell_type": "code",
   "execution_count": 9,
   "metadata": {},
   "outputs": [
    {
     "name": "stdout",
     "output_type": "stream",
     "text": [
      "   ID             NAME     PRICE\n",
      "0   1        iPhone 15  18000000\n",
      "1   2  Galaxy Z-Fold 5  50000000\n"
     ]
    }
   ],
   "source": [
    "cursor.execute('''\n",
    "UPDATE PRODUCT\n",
    "SET PRICE = 50000000\n",
    "WHERE 1=1\n",
    "AND NAME = 'Galaxy Z-Fold 5';\n",
    "''')\n",
    "data = pd.read_sql_query(\"SELECT * FROM PRODUCT\", connection)\n",
    "print(data)"
   ]
  },
  {
   "cell_type": "code",
   "execution_count": 10,
   "metadata": {},
   "outputs": [
    {
     "name": "stdout",
     "output_type": "stream",
     "text": [
      "   ID             NAME     PRICE\n",
      "0   2  Galaxy Z-Fold 5  50000000\n"
     ]
    }
   ],
   "source": [
    "cursor.execute('''\n",
    "DELETE FROM PRODUCT\n",
    "WHERE 1=1\n",
    "AND NAME = 'iPhone 15';\n",
    "''')\n",
    "data = pd.read_sql_query(\"SELECT * FROM PRODUCT\", connection)\n",
    "print(data)"
   ]
  }
 ],
 "metadata": {
  "kernelspec": {
   "display_name": "Nam",
   "language": "python",
   "name": "python3"
  },
  "language_info": {
   "codemirror_mode": {
    "name": "ipython",
    "version": 3
   },
   "file_extension": ".py",
   "mimetype": "text/x-python",
   "name": "python",
   "nbconvert_exporter": "python",
   "pygments_lexer": "ipython3",
   "version": "3.11.8"
  }
 },
 "nbformat": 4,
 "nbformat_minor": 2
}
