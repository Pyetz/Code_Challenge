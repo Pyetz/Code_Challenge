{
 "cells": [
  {
   "cell_type": "markdown",
   "metadata": {},
   "source": [
    "# Bài 1"
   ]
  },
  {
   "cell_type": "code",
   "execution_count": 1,
   "metadata": {},
   "outputs": [
    {
     "name": "stdout",
     "output_type": "stream",
     "text": [
      "[[1, 3], [4, 6], [7, 9]]\n"
     ]
    }
   ],
   "source": [
    "row, col = 3, 3\n",
    "lst = []\n",
    "lst_sub_data = []\n",
    "\n",
    "for i in range(0, row):\n",
    "    lst.append([])\n",
    "    for j in range(1, col+1):\n",
    "        lst[i].append(i*3 + j)\n",
    "\n",
    "for i in range(0, row):\n",
    "    lst_sub_data.append([])\n",
    "    for j in range(0, col, 2):\n",
    "            lst_sub_data[i].append(lst[i][j])\n",
    "\n",
    "print(lst_sub_data)"
   ]
  },
  {
   "cell_type": "markdown",
   "metadata": {},
   "source": [
    "# Bài 2"
   ]
  },
  {
   "cell_type": "code",
   "execution_count": 3,
   "metadata": {},
   "outputs": [
    {
     "name": "stdout",
     "output_type": "stream",
     "text": [
      "[[3, 6, 9], [5, 8, 11], [8, 8, 10]]\n",
      "[[-1, -2, -3], [3, 2, 1], [6, 8, 8]]\n",
      "[[7, 10, 19], [19, 31, 55], [31, 52, 91]]\n",
      "[[7, 10, 19], [19, 31, 55], [31, 52, 91]]\n"
     ]
    }
   ],
   "source": [
    "matA = [[1, 2, 3], [4, 5, 6], [7, 8, 9]]\n",
    "matB = [[2, 4, 6], [1, 3, 5], [1, 0, 1]]\n",
    "\n",
    "def mat_sum(A, B):\n",
    "    return [[A[i][j] + B[i][j] for j in range(len(A[0]))] for i in range(len(A))]\n",
    "\n",
    "def mat_sub(A, B):\n",
    "    return [[A[i][j] - B[i][j] for j in range(len(A[0]))] for i in range(len(A))]\n",
    "\n",
    "def dot_product1(A, B):\n",
    "    return [[sum(A[i][k] * B[k][j] for k in range(len(A[0]))) for j in range(len(B[0]))] for i in range(len(A))]\n",
    "\n",
    "def dot_product2(A, B):\n",
    "    mat_result = [[0]*len(B[0]) for i in range(len(A))]\n",
    "    for i in range(len(A)):\n",
    "        for j in range(len(B[0])):\n",
    "            for k in range(len(B)):\n",
    "                mat_result[i][j] += A[i][k] * B[k][j]\n",
    "    return mat_result\n",
    "    \n",
    "print(mat_sum(matA, matB))\n",
    "print(mat_sub(matA, matB))\n",
    "print(dot_product1(matA, matB))\n",
    "print(dot_product2(matA, matB))"
   ]
  }
 ],
 "metadata": {
  "kernelspec": {
   "display_name": "aMs_3.11",
   "language": "python",
   "name": "python3"
  },
  "language_info": {
   "codemirror_mode": {
    "name": "ipython",
    "version": 3
   },
   "file_extension": ".py",
   "mimetype": "text/x-python",
   "name": "python",
   "nbconvert_exporter": "python",
   "pygments_lexer": "ipython3",
   "version": "3.11.8"
  }
 },
 "nbformat": 4,
 "nbformat_minor": 2
}
