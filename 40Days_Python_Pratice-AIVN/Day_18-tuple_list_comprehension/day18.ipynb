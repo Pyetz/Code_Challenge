{
 "cells": [
  {
   "cell_type": "markdown",
   "metadata": {},
   "source": [
    "# Bài 1"
   ]
  },
  {
   "cell_type": "code",
   "execution_count": 1,
   "metadata": {},
   "outputs": [
    {
     "name": "stdout",
     "output_type": "stream",
     "text": [
      "['AI', 'listen', 'music']\n"
     ]
    }
   ],
   "source": [
    "stop_words = [\"I\", \"love\", \"and\", \"to\"]\n",
    "sentence = \"I love AI and listen to music\"\n",
    "\n",
    "result = [word for word in sentence.split() if word not in stop_words]\n",
    "print(result)"
   ]
  },
  {
   "cell_type": "markdown",
   "metadata": {},
   "source": [
    "# Bài 2"
   ]
  },
  {
   "cell_type": "code",
   "execution_count": 2,
   "metadata": {},
   "outputs": [
    {
     "name": "stdout",
     "output_type": "stream",
     "text": [
      "(5, 9)\n",
      "(6, 18)\n",
      "3.1622776601683795\n",
      "1 0\n"
     ]
    }
   ],
   "source": [
    "my_tuple1 = 2, 3\n",
    "my_tuple2 = 3, 6\n",
    "\n",
    "tpl_sum = (my_tuple1[i] + my_tuple2[i] for i in range(len(my_tuple1)))\n",
    "tpl_mul = (my_tuple1[i] * my_tuple2[i] for i in range(len(my_tuple1)))\n",
    "distance = sum((my_tuple1[i] - my_tuple2[i])**2 for i in range(len(my_tuple1)))**0.5\n",
    "index1 = my_tuple1.index(3)\n",
    "index2 = my_tuple2.index(3)\n",
    "\n",
    "print(tuple(tpl_sum))\n",
    "print(tuple(tpl_mul))\n",
    "print(distance)\n",
    "print(index1, index2)"
   ]
  }
 ],
 "metadata": {
  "kernelspec": {
   "display_name": "aMs_3.11",
   "language": "python",
   "name": "python3"
  },
  "language_info": {
   "codemirror_mode": {
    "name": "ipython",
    "version": 3
   },
   "file_extension": ".py",
   "mimetype": "text/x-python",
   "name": "python",
   "nbconvert_exporter": "python",
   "pygments_lexer": "ipython3",
   "version": "3.11.8"
  }
 },
 "nbformat": 4,
 "nbformat_minor": 2
}
