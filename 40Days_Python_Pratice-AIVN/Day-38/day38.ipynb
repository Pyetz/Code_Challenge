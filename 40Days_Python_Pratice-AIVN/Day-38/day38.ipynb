{
 "cells": [
  {
   "cell_type": "code",
   "execution_count": 1,
   "metadata": {},
   "outputs": [],
   "source": [
    "import wandb\n",
    "import pandas as pd\n",
    "\n",
    "path = 'advertising.csv'"
   ]
  },
  {
   "cell_type": "code",
   "execution_count": 2,
   "metadata": {},
   "outputs": [
    {
     "name": "stdout",
     "output_type": "stream",
     "text": [
      "      TV  Radio  Newspaper  Sales\n",
      "0  230.1   37.8       69.2   22.1\n",
      "1   44.5   39.3       45.1   10.4\n",
      "2   17.2   45.9       69.3   12.0\n",
      "3  151.5   41.3       58.5   16.5\n",
      "4  180.8   10.8       58.4   17.9\n"
     ]
    }
   ],
   "source": [
    "df = pd.read_csv(path)\n",
    "print(df.head())"
   ]
  },
  {
   "cell_type": "code",
   "execution_count": 3,
   "metadata": {},
   "outputs": [],
   "source": [
    "def scaling(data1, data2, data3):\n",
    "    data = data1 + data2 + data3\n",
    "    max_value = max(data)\n",
    "    min_value = min(data)\n",
    "    mean_value = sum(data) / len(data)\n",
    "\n",
    "    data1 = [(x - mean_value) / (max_value - min_value) for x in data1]\n",
    "    data2 = [(x - mean_value) / (max_value - min_value) for x in data2]\n",
    "    data3 = [(x - mean_value) / (max_value - min_value) for x in data3]\n",
    "    return (data1, data2, data3)"
   ]
  },
  {
   "cell_type": "code",
   "execution_count": 4,
   "metadata": {},
   "outputs": [],
   "source": [
    "def predict(x1, x2, x3, w1, w2, w3, b):\n",
    "    return x1*w1 + x2*w2 + x3*w3 + b\n",
    "\n",
    "def gradient_w(y_hat, y, xi):\n",
    "    dwi = 2*xi*(y_hat - y)\n",
    "    return dwi\n",
    "\n",
    "def gradient_b(y_hat, y):\n",
    "    db = 2*(y_hat - y)\n",
    "    return db\n",
    "\n",
    "def update_weight_w(wi, dwi, lr):\n",
    "    wi_new = wi - lr*dwi\n",
    "    return wi_new\n",
    "\n",
    "def update_weight_b(b, db, lr):\n",
    "    b_new = b - lr*db\n",
    "    return b_new"
   ]
  },
  {
   "cell_type": "code",
   "execution_count": 5,
   "metadata": {},
   "outputs": [],
   "source": [
    "b = 1\n",
    "w1, w2, w3 = 0, 0, 0\n",
    "lr = 0.01\n",
    "epochs = 1000"
   ]
  },
  {
   "cell_type": "code",
   "execution_count": 6,
   "metadata": {},
   "outputs": [
    {
     "name": "stderr",
     "output_type": "stream",
     "text": [
      "Failed to detect the name of this notebook, you can set it manually with the WANDB_NOTEBOOK_NAME environment variable to enable code saving.\n",
      "\u001b[34m\u001b[1mwandb\u001b[0m: Currently logged in as: \u001b[33mvhp08072004\u001b[0m. Use \u001b[1m`wandb login --relogin`\u001b[0m to force relogin\n"
     ]
    },
    {
     "data": {
      "text/html": [
       "wandb version 0.17.0 is available!  To upgrade, please run:\n",
       " $ pip install wandb --upgrade"
      ],
      "text/plain": [
       "<IPython.core.display.HTML object>"
      ]
     },
     "metadata": {},
     "output_type": "display_data"
    },
    {
     "data": {
      "text/html": [
       "Tracking run with wandb version 0.16.6"
      ],
      "text/plain": [
       "<IPython.core.display.HTML object>"
      ]
     },
     "metadata": {},
     "output_type": "display_data"
    },
    {
     "data": {
      "text/html": [
       "Run data is saved locally in <code>/Users/phatvu/Library/CloudStorage/GoogleDrive-vhoangphatdz@gmail.com/My Drive/Code_Challenge/40Days_Python_Pratice-AIVN/Day-38/wandb/run-20240603_155939-j7f24nm8</code>"
      ],
      "text/plain": [
       "<IPython.core.display.HTML object>"
      ]
     },
     "metadata": {},
     "output_type": "display_data"
    },
    {
     "data": {
      "text/html": [
       "Syncing run <strong><a href='https://wandb.ai/vhp08072004/demo-linear-regression/runs/j7f24nm8' target=\"_blank\">polished-planet-3</a></strong> to <a href='https://wandb.ai/vhp08072004/demo-linear-regression' target=\"_blank\">Weights & Biases</a> (<a href='https://wandb.me/run' target=\"_blank\">docs</a>)<br/>"
      ],
      "text/plain": [
       "<IPython.core.display.HTML object>"
      ]
     },
     "metadata": {},
     "output_type": "display_data"
    },
    {
     "data": {
      "text/html": [
       " View project at <a href='https://wandb.ai/vhp08072004/demo-linear-regression' target=\"_blank\">https://wandb.ai/vhp08072004/demo-linear-regression</a>"
      ],
      "text/plain": [
       "<IPython.core.display.HTML object>"
      ]
     },
     "metadata": {},
     "output_type": "display_data"
    },
    {
     "data": {
      "text/html": [
       " View run at <a href='https://wandb.ai/vhp08072004/demo-linear-regression/runs/j7f24nm8' target=\"_blank\">https://wandb.ai/vhp08072004/demo-linear-regression/runs/j7f24nm8</a>"
      ],
      "text/plain": [
       "<IPython.core.display.HTML object>"
      ]
     },
     "metadata": {},
     "output_type": "display_data"
    },
    {
     "data": {
      "text/html": [
       "<button onClick=\"this.nextSibling.style.display='block';this.style.display='none';\">Display W&B run</button><iframe src='https://wandb.ai/vhp08072004/demo-linear-regression/runs/j7f24nm8?jupyter=true' style='border:none;width:100%;height:420px;display:none;'></iframe>"
      ],
      "text/plain": [
       "<wandb.sdk.wandb_run.Run at 0x14893b650>"
      ]
     },
     "execution_count": 6,
     "metadata": {},
     "output_type": "execute_result"
    }
   ],
   "source": [
    "wandb.init(\n",
    "    project=\"demo-linear-regression\",\n",
    "    config={\n",
    "        \"learning_rate\": lr,\n",
    "        \"epochs\": epochs,\n",
    "    },\n",
    ")"
   ]
  },
  {
   "cell_type": "code",
   "execution_count": 7,
   "metadata": {},
   "outputs": [],
   "source": [
    "wandb.run.log({\"Dataset\": wandb.Table(dataframe=df)})"
   ]
  },
  {
   "cell_type": "code",
   "execution_count": 8,
   "metadata": {},
   "outputs": [],
   "source": [
    "tv_data = df['TV']\n",
    "radio_data = df['Radio']\n",
    "newspaper_data = df['Newspaper']\n",
    "(X1_train, X2_train, X3_train) = scaling(tv_data, radio_data, newspaper_data)\n",
    "Y_train = df['Sales']"
   ]
  },
  {
   "cell_type": "code",
   "execution_count": 9,
   "metadata": {},
   "outputs": [],
   "source": [
    "N = len(X1_train)\n",
    "losses = []"
   ]
  },
  {
   "cell_type": "code",
   "execution_count": 10,
   "metadata": {},
   "outputs": [
    {
     "data": {
      "application/vnd.jupyter.widget-view+json": {
       "model_id": "acb61ad33f9d42a2b44ed214181dc0f1",
       "version_major": 2,
       "version_minor": 0
      },
      "text/plain": [
       "VBox(children=(Label(value='0.015 MB of 0.023 MB uploaded\\r'), FloatProgress(value=0.6430098511842381, max=1.0…"
      ]
     },
     "metadata": {},
     "output_type": "display_data"
    },
    {
     "data": {
      "text/html": [
       "<style>\n",
       "    table.wandb td:nth-child(1) { padding: 0 10px; text-align: left ; width: auto;} td:nth-child(2) {text-align: left ; width: 100%}\n",
       "    .wandb-row { display: flex; flex-direction: row; flex-wrap: wrap; justify-content: flex-start; width: 100% }\n",
       "    .wandb-col { display: flex; flex-direction: column; flex-basis: 100%; flex: 1; padding: 10px; }\n",
       "    </style>\n",
       "<div class=\"wandb-row\"><div class=\"wandb-col\"><h3>Run history:</h3><br/><table class=\"wandb\"><tr><td>loss</td><td>█▄▄▃▃▂▂▂▂▂▁▁▁▁▁▁▁▁▁▁▁▁▁▁▁▁▁▁▁▁▁▁▁▁▁▁▁▁▁▁</td></tr></table><br/></div><div class=\"wandb-col\"><h3>Run summary:</h3><br/><table class=\"wandb\"><tr><td>loss</td><td>1.38004</td></tr></table><br/></div></div>"
      ],
      "text/plain": [
       "<IPython.core.display.HTML object>"
      ]
     },
     "metadata": {},
     "output_type": "display_data"
    },
    {
     "data": {
      "text/html": [
       " View run <strong style=\"color:#cdcd00\">polished-planet-3</strong> at: <a href='https://wandb.ai/vhp08072004/demo-linear-regression/runs/j7f24nm8' target=\"_blank\">https://wandb.ai/vhp08072004/demo-linear-regression/runs/j7f24nm8</a><br/> View project at: <a href='https://wandb.ai/vhp08072004/demo-linear-regression' target=\"_blank\">https://wandb.ai/vhp08072004/demo-linear-regression</a><br/>Synced 5 W&B file(s), 1 media file(s), 1 artifact file(s) and 0 other file(s)"
      ],
      "text/plain": [
       "<IPython.core.display.HTML object>"
      ]
     },
     "metadata": {},
     "output_type": "display_data"
    },
    {
     "data": {
      "text/html": [
       "Find logs at: <code>./wandb/run-20240603_155939-j7f24nm8/logs</code>"
      ],
      "text/plain": [
       "<IPython.core.display.HTML object>"
      ]
     },
     "metadata": {},
     "output_type": "display_data"
    }
   ],
   "source": [
    "for epoch in range(epochs):\n",
    "    loss_total = 0.0\n",
    "    for i in range(N):\n",
    "        x1 = X1_train[i]\n",
    "        x2 = X2_train[i]\n",
    "        x3 = X3_train[i]\n",
    "        y = Y_train[i]\n",
    "\n",
    "        y_hat = predict(x1, x2, x3, w1, w2, w3, b)\n",
    "        dw1 = gradient_w(y_hat, y, x1)\n",
    "        dw2 = gradient_w(y_hat, y, x2)\n",
    "        dw3 = gradient_w(y_hat, y, x3)\n",
    "        db = gradient_b(y_hat, y)\n",
    "\n",
    "        w1 = update_weight_w(w1, dw1, lr)\n",
    "        w2 = update_weight_w(w2, dw2, lr)\n",
    "        w3 = update_weight_w(w3, dw3, lr)\n",
    "        b = update_weight_b(b, db, lr)\n",
    "\n",
    "        loss = (y_hat - y)*(y_hat - y)/2.0\n",
    "        loss_total = loss_total + loss\n",
    "    wandb.log({\"loss\": loss_total/N})\n",
    "    losses.append(loss_total/N)\n",
    "\n",
    "wandb.finish()"
   ]
  }
 ],
 "metadata": {
  "kernelspec": {
   "display_name": "Nam",
   "language": "python",
   "name": "python3"
  },
  "language_info": {
   "codemirror_mode": {
    "name": "ipython",
    "version": 3
   },
   "file_extension": ".py",
   "mimetype": "text/x-python",
   "name": "python",
   "nbconvert_exporter": "python",
   "pygments_lexer": "ipython3",
   "version": "3.11.8"
  }
 },
 "nbformat": 4,
 "nbformat_minor": 2
}
