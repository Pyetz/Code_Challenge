{
 "cells": [
  {
   "cell_type": "code",
   "execution_count": 1,
   "metadata": {},
   "outputs": [
    {
     "name": "stdout",
     "output_type": "stream",
     "text": [
      "[('Công cụ', 'N'), ('Suno', 'Np'), ('AI', 'P'), ('nhanh chóng', 'A'), ('nhận', 'V'), ('được', 'R'), ('sự', 'N'), ('chú ý', 'V'), ('từ', 'E'), ('người', 'N'), ('dùng', 'V'), ('khi', 'N'), ('có thể', 'R'), ('tạo', 'V'), ('bài', 'N'), ('hát', 'V'), ('chỉ', 'R'), ('với', 'E'), ('vài', 'L'), ('câu', 'N'), ('lệnh', 'N'), ('.', 'CH'), ('Phiên bản', 'V'), ('mới', 'A'), ('nhất', 'A'), ('V3 Alpha', 'Np'), ('mới', 'R'), ('được', 'V'), ('giới thiệu', 'V'), ('cuối', 'N'), ('tháng', 'N'), ('2', 'M'), (',', 'CH'), ('có', 'V'), ('bản', 'N'), ('miễn phí', 'V'), ('với', 'E'), ('10', 'M'), ('bài', 'N'), ('hát', 'V'), ('mỗi', 'L'), ('ngày', 'N'), ('.', 'CH')]\n",
      "['vi_tinh']\n",
      "positive\n",
      "['Công cụ Suno AI nhanh chóng nhận được sự chú ý từ người dùng khi có thể tạo bài hát chỉ với vài câu lệnh.', 'Phiên bản mới nhất V3 Alpha mới được giới thiệu cuối tháng 2, có bản miễn phí với 10 bài hát mỗi ngày.']\n",
      "['Công cụ', 'Suno', 'AI', 'nhanh chóng', 'nhận', 'được', 'sự', 'chú ý', 'từ', 'người', 'dùng', 'khi', 'có thể', 'tạo', 'bài', 'hát', 'chỉ', 'với', 'vài', 'câu', 'lệnh', '.', 'Phiên bản', 'mới', 'nhất', 'V3 Alpha', 'mới', 'được', 'giới thiệu', 'cuối', 'tháng', '2', ',', 'có', 'bản', 'miễn phí', 'với', '10', 'bài', 'hát', 'mỗi', 'ngày', '.']\n"
     ]
    }
   ],
   "source": [
    "import underthesea as uts\n",
    "\n",
    "\n",
    "text = \"Công cụ Suno AI nhanh chóng nhận được sự chú ý từ người dùng khi có thể tạo bài hát chỉ với vài câu lệnh. Phiên bản mới nhất V3 Alpha mới được giới thiệu cuối tháng 2, có bản miễn phí với 10 bài hát mỗi ngày.\"\n",
    "\n",
    "print(uts.pos_tag(text))\n",
    "print(uts.classify(text))\n",
    "print(uts.sentiment(text))\n",
    "print(uts.sent_tokenize(text))\n",
    "print(uts.word_tokenize(text))"
   ]
  }
 ],
 "metadata": {
  "kernelspec": {
   "display_name": "aMs_3.11",
   "language": "python",
   "name": "python3"
  },
  "language_info": {
   "codemirror_mode": {
    "name": "ipython",
    "version": 3
   },
   "file_extension": ".py",
   "mimetype": "text/x-python",
   "name": "python",
   "nbconvert_exporter": "python",
   "pygments_lexer": "ipython3",
   "version": "3.11.8"
  }
 },
 "nbformat": 4,
 "nbformat_minor": 2
}
