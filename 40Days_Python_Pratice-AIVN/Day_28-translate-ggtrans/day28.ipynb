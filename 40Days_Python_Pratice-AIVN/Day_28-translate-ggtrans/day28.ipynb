{
 "cells": [
  {
   "cell_type": "code",
   "execution_count": 1,
   "metadata": {},
   "outputs": [
    {
     "name": "stdout",
     "output_type": "stream",
     "text": [
      "The Suno AI tool quickly gets users' attention when it is possible to create a song with just a few commands. The latest version of V3 Alpha was just introduced at the end of February, there is a free version with 10 songs per day.\n",
      "Suno AIツールは、いくつかのコマンドで曲を作成できるときに、ユーザーの注意を素早く引きます。V 3 Alphaの最新バージョンは2月末に発売されたばかりで、1日10曲の無料バージョンがあります。\n"
     ]
    }
   ],
   "source": [
    "import translate\n",
    "\n",
    "txt = \"Công cụ Suno AI nhanh chóng nhận được sự chú ý từ người dùng khi có thể tạo bài hát chỉ với vài câu lệnh. Phiên bản mới nhất V3 Alpha mới được giới thiệu cuối tháng 2, có bản miễn phí với 10 bài hát mỗi ngày.\"\n",
    "\n",
    "translator = translate.Translator(to_lang=\"en\", from_lang=\"vi\")\n",
    "result = translator.translate(txt)\n",
    "print(result)\n",
    "\n",
    "translator = translate.Translator(to_lang=\"ja\", from_lang=\"vi\")\n",
    "result = translator.translate(txt)\n",
    "print(result)\n",
    "\n"
   ]
  },
  {
   "cell_type": "code",
   "execution_count": 2,
   "metadata": {},
   "outputs": [
    {
     "name": "stdout",
     "output_type": "stream",
     "text": [
      "Suno AI tools quickly get attention from users when they can create a song with just a few statements.The latest version of V3 Alpha was introduced at the end of February, with a free version with 10 songs a day.\n",
      "Suno AIツールは、ユーザーがいくつかのステートメントで曲を作成できる場合、ユーザーからすぐに注目を集めます。V3 Alphaの最新バージョンは2月末に紹介され、1日10曲の無料バージョンがありました。\n"
     ]
    }
   ],
   "source": [
    "import googletrans\n",
    "\n",
    "translate = googletrans.Translator()\n",
    "result = translate.translate(txt, dest='en')\n",
    "print(result.text)\n",
    "\n",
    "result = translate.translate(txt, dest='ja')\n",
    "print(result.text)"
   ]
  }
 ],
 "metadata": {
  "kernelspec": {
   "display_name": "aMs_3.11",
   "language": "python",
   "name": "python3"
  },
  "language_info": {
   "codemirror_mode": {
    "name": "ipython",
    "version": 3
   },
   "file_extension": ".py",
   "mimetype": "text/x-python",
   "name": "python",
   "nbconvert_exporter": "python",
   "pygments_lexer": "ipython3",
   "version": "3.11.8"
  }
 },
 "nbformat": 4,
 "nbformat_minor": 2
}
