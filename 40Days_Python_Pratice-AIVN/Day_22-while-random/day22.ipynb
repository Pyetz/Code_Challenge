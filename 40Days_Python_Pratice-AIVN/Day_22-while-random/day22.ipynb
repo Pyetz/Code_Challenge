{
 "cells": [
  {
   "cell_type": "markdown",
   "metadata": {},
   "source": [
    "# Bài 1"
   ]
  },
  {
   "cell_type": "code",
   "execution_count": 2,
   "metadata": {},
   "outputs": [
    {
     "name": "stdout",
     "output_type": "stream",
     "text": [
      "266\n",
      "32\n",
      "96\n"
     ]
    }
   ],
   "source": [
    "import random\n",
    "\n",
    "def random_number_with_condition(total):\n",
    "    random.seed(0)\n",
    "    count = 0\n",
    "    while random.randint(1, 20) + random.randint(1, 20) != total:\n",
    "        count += 1\n",
    "\n",
    "    return count+1\n",
    "        \n",
    "print(random_number_with_condition(40))\n",
    "print(random_number_with_condition(20))\n",
    "print(random_number_with_condition(35))"
   ]
  },
  {
   "cell_type": "markdown",
   "metadata": {},
   "source": [
    "# Bài 2"
   ]
  },
  {
   "cell_type": "code",
   "execution_count": 3,
   "metadata": {},
   "outputs": [
    {
     "name": "stdout",
     "output_type": "stream",
     "text": [
      "105\n",
      "102\n"
     ]
    }
   ],
   "source": [
    "def find_divisible_number(a):\n",
    "    result = 101  \n",
    "    while True:\n",
    "        if result % a == 0:\n",
    "            break\n",
    "        result += 1\n",
    "\n",
    "    return result\n",
    "\n",
    "print(find_divisible_number(5))\n",
    "print(find_divisible_number(17))"
   ]
  },
  {
   "cell_type": "markdown",
   "metadata": {},
   "source": [
    "# Bài 3"
   ]
  },
  {
   "cell_type": "code",
   "execution_count": 4,
   "metadata": {},
   "outputs": [
    {
     "name": "stdout",
     "output_type": "stream",
     "text": [
      "1.4142135623746899\n",
      "1.7320508100147276\n"
     ]
    }
   ],
   "source": [
    "def find_square_root(a):\n",
    "    x = a; EPSILON = 0.001\n",
    "    while True:\n",
    "        old_x = x\n",
    "        x = x - (x**2 - a) / (2 * x)\n",
    "        if abs(x - old_x) < EPSILON:\n",
    "            return x\n",
    "\n",
    "print(find_square_root(2))\n",
    "print(find_square_root(3))"
   ]
  }
 ],
 "metadata": {
  "kernelspec": {
   "display_name": "aMs_3.11",
   "language": "python",
   "name": "python3"
  },
  "language_info": {
   "codemirror_mode": {
    "name": "ipython",
    "version": 3
   },
   "file_extension": ".py",
   "mimetype": "text/x-python",
   "name": "python",
   "nbconvert_exporter": "python",
   "pygments_lexer": "ipython3",
   "version": "3.11.8"
  }
 },
 "nbformat": 4,
 "nbformat_minor": 2
}
