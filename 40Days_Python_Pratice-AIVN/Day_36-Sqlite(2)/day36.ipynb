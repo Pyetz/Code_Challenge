{
 "cells": [
  {
   "cell_type": "code",
   "execution_count": 1,
   "metadata": {},
   "outputs": [],
   "source": [
    "import sqlite3\n",
    "import pandas as pd\n",
    "conn = sqlite3.connect('data.db')\n",
    "cursor = conn.cursor()"
   ]
  },
  {
   "cell_type": "code",
   "execution_count": 2,
   "metadata": {},
   "outputs": [
    {
     "data": {
      "text/plain": [
       "<sqlite3.Cursor at 0x140087b40>"
      ]
     },
     "execution_count": 2,
     "metadata": {},
     "output_type": "execute_result"
    }
   ],
   "source": [
    "query = '''\n",
    "CREATE TABLE STOCK (\n",
    "    ID INTEGER PRIMARY KEY,\n",
    "    NAME TEXT NOT NULL,\n",
    "    BUY INTEGER NOT NULL,\n",
    "    INVESTOR TEXT NOT NULL\n",
    ");'''\n",
    "cursor.execute(query)"
   ]
  },
  {
   "cell_type": "code",
   "execution_count": 3,
   "metadata": {},
   "outputs": [
    {
     "name": "stdout",
     "output_type": "stream",
     "text": [
      "   ID NAME    BUY INVESTOR\n",
      "0   1  ACB  29.45   Nguyen\n",
      "1   2  VIC  44.55   Nguyen\n",
      "2   3  GMD  74.30   Nguyen\n",
      "3   4  ACB  28.45     Vinh\n",
      "4   5  VIC  40.55     Vinh\n",
      "5   6  GMD  60.30     Vinh\n"
     ]
    }
   ],
   "source": [
    "query = '''\n",
    "INSERT INTO STOCK (ID, NAME, BUY, INVESTOR)\n",
    "VALUES\n",
    "    (1, 'ACB', 29.45, 'Nguyen'),\n",
    "    (2, 'VIC', 44.55, 'Nguyen'),\n",
    "    (3, 'GMD', 74.30, 'Nguyen'),\n",
    "    (4, 'ACB', 28.45, 'Vinh'),\n",
    "    (5, 'VIC', 40.55, 'Vinh'),\n",
    "    (6, 'GMD', 60.30, 'Vinh');\n",
    "'''\n",
    "cursor.execute(query)\n",
    "conn.commit()\n",
    "data = pd.read_sql_query('SELECT * FROM STOCK', conn)\n",
    "print(data)"
   ]
  },
  {
   "cell_type": "code",
   "execution_count": 4,
   "metadata": {},
   "outputs": [
    {
     "name": "stdout",
     "output_type": "stream",
     "text": [
      "   TOTAL_BUY\n",
      "0      277.6\n"
     ]
    }
   ],
   "source": [
    "query = '''\n",
    "SELECT SUM(BUY) AS TOTAL_BUY\n",
    "FROM STOCK;\n",
    "'''\n",
    "data = pd.read_sql_query(query, conn)\n",
    "print(data)"
   ]
  }
 ],
 "metadata": {
  "kernelspec": {
   "display_name": "Nam",
   "language": "python",
   "name": "python3"
  },
  "language_info": {
   "codemirror_mode": {
    "name": "ipython",
    "version": 3
   },
   "file_extension": ".py",
   "mimetype": "text/x-python",
   "name": "python",
   "nbconvert_exporter": "python",
   "pygments_lexer": "ipython3",
   "version": "3.11.8"
  }
 },
 "nbformat": 4,
 "nbformat_minor": 2
}
